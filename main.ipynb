{
 "cells": [
  {
   "cell_type": "code",
   "execution_count": null,
   "id": "1ddc4422",
   "metadata": {},
   "outputs": [
    {
     "name": "stdout",
     "output_type": "stream",
     "text": [
      "i am tejdep\n"
     ]
    }
   ],
   "source": []
  },
  {
   "cell_type": "code",
   "execution_count": 3,
   "id": "65072e77",
   "metadata": {},
   "outputs": [
    {
     "name": "stdout",
     "output_type": "stream",
     "text": [
      "<class 'float'>\n"
     ]
    }
   ],
   "source": [
    "A = 1.01\n",
    "print(type(A))"
   ]
  },
  {
   "cell_type": "markdown",
   "id": "d04102b0",
   "metadata": {},
   "source": [
    "##### Print the first 10 natural numbers."
   ]
  },
  {
   "cell_type": "code",
   "execution_count": 11,
   "id": "5b9aa24f",
   "metadata": {},
   "outputs": [
    {
     "name": "stdout",
     "output_type": "stream",
     "text": [
      "1\n",
      "2\n",
      "3\n",
      "4\n",
      "5\n",
      "6\n",
      "7\n",
      "8\n",
      "9\n",
      "10\n"
     ]
    }
   ],
   "source": [
    "n = 10\n",
    "i = 1\n",
    "while i <= n:\n",
    "    print(i)\n",
    "    i+=1\n"
   ]
  },
  {
   "cell_type": "markdown",
   "id": "722ffd05",
   "metadata": {},
   "source": [
    "##### Print the sum of numbers 1–100."
   ]
  },
  {
   "cell_type": "code",
   "execution_count": 12,
   "id": "bc15f323",
   "metadata": {},
   "outputs": [
    {
     "name": "stdout",
     "output_type": "stream",
     "text": [
      "5050\n"
     ]
    }
   ],
   "source": [
    "sum = 0\n",
    "i = 1\n",
    "n = 100\n",
    "while i <= n:\n",
    "    sum += i\n",
    "    i+=1\n",
    "\n",
    "print(sum)"
   ]
  },
  {
   "cell_type": "markdown",
   "id": "cc22c0d4",
   "metadata": {},
   "source": [
    "##### Given a list nums = [3,7,2,9], print maximum and minimum."
   ]
  },
  {
   "cell_type": "code",
   "execution_count": 14,
   "id": "27e6521c",
   "metadata": {},
   "outputs": [
    {
     "name": "stdout",
     "output_type": "stream",
     "text": [
      "minimum number: 2\n",
      "Maximmum number: 9\n"
     ]
    }
   ],
   "source": [
    "nums = [3,7,2,9]\n",
    "nums.sort()\n",
    "print(\"minimum number:\",nums[0])\n",
    "print(\"Maximmum number:\",nums[len(nums)-1])"
   ]
  },
  {
   "cell_type": "markdown",
   "id": "3b6669ad",
   "metadata": {},
   "source": [
    "##### Write a function is_prime(n) that returns True/False."
   ]
  },
  {
   "cell_type": "code",
   "execution_count": 21,
   "id": "32e67aa5",
   "metadata": {},
   "outputs": [
    {
     "data": {
      "text/plain": [
       "True"
      ]
     },
     "execution_count": 21,
     "metadata": {},
     "output_type": "execute_result"
    }
   ],
   "source": [
    "def is_prime(n):\n",
    "    if n%2 == 0:\n",
    "        return False\n",
    "    else:\n",
    "        return True\n",
    "    \n",
    "is_prime(11)"
   ]
  },
  {
   "cell_type": "markdown",
   "id": "6344b8a0",
   "metadata": {},
   "source": [
    "##### Reverse a string without using .reverse() — write reverse(\"hello\")."
   ]
  },
  {
   "cell_type": "code",
   "execution_count": null,
   "id": "b7e2cabe",
   "metadata": {},
   "outputs": [
    {
     "name": "stdout",
     "output_type": "stream",
     "text": [
      "hctib uoy kcuF\n"
     ]
    }
   ],
   "source": [
    "def reverse(str):\n",
    "    i = len(str)-1\n",
    "    reversed = \"\"\n",
    "    while i > -1:\n",
    "        reversed += str[i]\n",
    "        i-=1\n",
    "\n",
    "    print(reversed)\n",
    "\n",
    "string = \"I am so sorry, I shouldn't have told you that.\"\n",
    "reverse(string)"
   ]
  },
  {
   "cell_type": "markdown",
   "id": "c2d69e6d",
   "metadata": {},
   "source": [
    "##### Count vowels in a given string."
   ]
  },
  {
   "cell_type": "code",
   "execution_count": 42,
   "id": "9cde3e89",
   "metadata": {},
   "outputs": [
    {
     "name": "stdout",
     "output_type": "stream",
     "text": [
      "3\n"
     ]
    }
   ],
   "source": [
    "def count_vowels_in_string(str):\n",
    "    count = 0\n",
    "    i = 0\n",
    "    n = len(str)\n",
    "    vowels = [\"a\",\"e\",\"i\",\"o\",\"u\"]\n",
    "    while i < n:\n",
    "        if str[i] in vowels:\n",
    "            count+=1\n",
    "        i+=1\n",
    "    print(count)\n",
    "\n",
    "string =\"beginner\"\n",
    "count_vowels_in_string(string)"
   ]
  },
  {
   "cell_type": "markdown",
   "id": "79791e30",
   "metadata": {},
   "source": [
    "##### Given a list of words, print words that start with vowel."
   ]
  },
  {
   "cell_type": "code",
   "execution_count": 45,
   "id": "e3e83fde",
   "metadata": {},
   "outputs": [
    {
     "name": "stdout",
     "output_type": "stream",
     "text": [
      "['one', 'eight', 'apple']\n"
     ]
    }
   ],
   "source": [
    "def list_of_words_start_with_vowel(words):\n",
    "    n = len(words)\n",
    "    new = []\n",
    "    i = 0\n",
    "    vowels = [\"a\",\"e\",\"i\",\"o\",\"u\"]\n",
    "    while i<n:\n",
    "        str = words[i]\n",
    "        if str[0] in vowels:\n",
    "            new.append(str)\n",
    "        i+=1\n",
    "\n",
    "    print(new)\n",
    "\n",
    "w = [\"one\",\"eight\",\"three\",\"apple\"]\n",
    "list_of_words_start_with_vowel(w)"
   ]
  },
  {
   "cell_type": "markdown",
   "id": "bd787335",
   "metadata": {},
   "source": [
    "##### Read numbers from numbers.txt (one per line) and print their average."
   ]
  },
  {
   "cell_type": "code",
   "execution_count": null,
   "id": "e3db56f7",
   "metadata": {},
   "outputs": [],
   "source": []
  }
 ],
 "metadata": {
  "kernelspec": {
   "display_name": "Python 3",
   "language": "python",
   "name": "python3"
  },
  "language_info": {
   "codemirror_mode": {
    "name": "ipython",
    "version": 3
   },
   "file_extension": ".py",
   "mimetype": "text/x-python",
   "name": "python",
   "nbconvert_exporter": "python",
   "pygments_lexer": "ipython3",
   "version": "3.11.9"
  }
 },
 "nbformat": 4,
 "nbformat_minor": 5
}
